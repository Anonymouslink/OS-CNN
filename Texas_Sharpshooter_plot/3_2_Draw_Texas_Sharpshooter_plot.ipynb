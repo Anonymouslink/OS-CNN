{
 "cells": [
  {
   "cell_type": "markdown",
   "metadata": {},
   "source": [
    "# This is Texa sharpshooter plot for 128 datasets. "
   ]
  },
  {
   "cell_type": "code",
   "execution_count": 2,
   "metadata": {},
   "outputs": [
    {
     "data": {
      "image/png": "[encoded data removed]",
      "text/plain": [
       "<Figure size 432x288 with 1 Axes>"
      ]
     },
     "metadata": {
      "needs_background": "light"
     },
     "output_type": "display_data"
    }
   ],
   "source": [
    "import numpy as np\n",
    "import matplotlib\n",
    "import matplotlib.pyplot as plt\n",
    "import pandas as pd\n",
    "\n",
    "def draw_Texa_sharpshooter(algrothim_train_acc,baseline_train_acc,algrothim_test_acc,baseline_test_acc,algrothim_name,baseline_name):\n",
    "    fig = plt.figure()\n",
    "    plt.xlabel('Expected gain')\n",
    "    plt.ylabel('Actual Gain')\n",
    "    plt.plot([1,1], [0,6], '--', linewidth=2, markersize=0,c ='C0')\n",
    "    plt.plot([0,6], [1,1], '--', linewidth=2, markersize=0,c ='C0')\n",
    "    plt.axis('equal')\n",
    "    plt.scatter(algrothim_train_acc/baseline_train_acc,algrothim_test_acc/baseline_test_acc,\n",
    "                label = algrothim_name+' VS '+baseline_name, \n",
    "                s =10,\n",
    "                c ='C1')\n",
    "    plt.legend(loc='lower left', bbox_to_anchor=(1, 0))\n",
    "    plt.text(4, 2, 'TP', ha='left', fontsize=12)\n",
    "    plt.text(-1, 0, 'TN', ha='left', fontsize=12)\n",
    "    plt.text(-1, 2, 'FN', ha='left', fontsize=12)\n",
    "    plt.text(4, 0, 'FP', ha='left', fontsize=12)\n",
    "    fig.savefig(\"./Texa sharpshooter_of_\"+algrothim_name+\"_and_\"+baseline_name+\".pdf\", bbox_inches='tight')\n",
    "\n",
    "    \n",
    "temp = np.asarray([[1.5,1.5],[0.5,0.5]])\n",
    "result_path = './Results_on_128_datasets.csv'\n",
    "file = pd.read_csv(result_path)\n",
    "CDTW_Train_Acc = file['CDTW Train Acc'].to_numpy()\n",
    "CDTW_Test_Acc = file['CDTW Test Acc'].to_numpy()\n",
    "\n",
    "\n",
    "OS_Train_Acc = file['OS-CNN Train Acc'].to_numpy()\n",
    "OS_Test_Acc = file['OS-CNN Test Acc'].to_numpy()\n",
    "\n",
    "\n",
    "draw_Texa_sharpshooter(OS_Train_Acc, CDTW_Train_Acc, OS_Test_Acc, CDTW_Test_Acc,'OS','CDTW')\n"
   ]
  },
  {
   "cell_type": "code",
   "execution_count": null,
   "metadata": {},
   "outputs": [],
   "source": []
  },
  {
   "cell_type": "code",
   "execution_count": null,
   "metadata": {},
   "outputs": [],
   "source": []
  }
 ],
 "metadata": {
  "kernelspec": {
   "display_name": "Python 3",
   "language": "python",
   "name": "python3"
  },
  "language_info": {
   "codemirror_mode": {
    "name": "ipython",
    "version": 3
   },
   "file_extension": ".py",
   "mimetype": "text/x-python",
   "name": "python",
   "nbconvert_exporter": "python",
   "pygments_lexer": "ipython3",
   "version": "3.5.6"
  }
 },
 "nbformat": 4,
 "nbformat_minor": 2
}
