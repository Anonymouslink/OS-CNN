{
 "cells": [
  {
   "cell_type": "markdown",
   "metadata": {},
   "source": [
    "# This code calculate how much parameter is used for OS-design\n",
    "# the number of parameter is calculated by this function:\n",
    "\n",
    "calcualte_total_number_of_parameter_for_prime_number(Prime_list, N)\n",
    "\n",
    "# you could scroll down to see the image result"
   ]
  },
  {
   "cell_type": "code",
   "execution_count": 1,
   "metadata": {},
   "outputs": [],
   "source": [
    "import numpy as np\n",
    "\n",
    "def get_Prime_number_in_a_range(start, end):\n",
    "    Prime_list = []\n",
    "    for val in range(start, end + 1): \n",
    "        prime_or_not = True\n",
    "        for n in range(2, val):\n",
    "            if (val % n) == 0:\n",
    "                prime_or_not = False\n",
    "                break\n",
    "        if prime_or_not:\n",
    "            Prime_list.append(val)\n",
    "    return Prime_list\n",
    "\n",
    "def calcualte_total_number_of_parameter_for_prime_number(Prime_list, N):\n",
    "    # this part is for speed up calculation\n",
    "    # for instance if the prime list is [1, 2, 3, 5, 7]\n",
    "    # The even number we want to get is [2, 4, 6, 8, 10] (with 1 and 2 in the third layer, it will be any integer)\n",
    "    # to obtain [2, 4, 6, 8, 10] we need 1+1=2, 1+3=4 1+5=6 1+7=8 3+7=10\n",
    "    # for the reason that the channel number is min(a,b)\n",
    "    # the channel number for (3+7=10) should be 3 channle for kernel of size 3 and 1 for kenel of size 7\n",
    "    # the calculation result should be \n",
    "    #    first layer = 1+2+3+5+7\n",
    "    #    second layer = 1+2+3+5+7\n",
    "    #    extar channel for 3*(3-1) # -1 is because the first layer has one channel  \n",
    "    # \"1.2_from\" this kind of model size increase is about 1.2\n",
    "    #    result = first layer + second layer + extra channle = 18+18+6 = 42\n",
    "    Prime_list = np.asarray(Prime_list)\n",
    "    Prime_list_row =np.expand_dims(Prime_list, axis=0)\n",
    "    Prime_list_column =np.expand_dims(Prime_list, axis=1)\n",
    "    all_sum_result = Prime_list_row + Prime_list_column\n",
    "\n",
    "    #list_1 = np.asarray([(i+1)*2 for i in range(int((Prime_list[-1]+1)/2))])\n",
    "    list_1 = np.asarray([(i+1)*2 for i in range(int(N/2))])\n",
    "    #print(list_1)\n",
    "    number_of_parameter = sum(Prime_list)*2\n",
    "\n",
    "    for i in range(len(Prime_list)):\n",
    "        list_2 = all_sum_result[i]\n",
    "        common_element = np.intersect1d(list_1,list_2)\n",
    "        if len(common_element)!=0:\n",
    "            number_of_parameter = number_of_parameter+Prime_list[i]*(Prime_list[i]-1)*len(common_element)\n",
    "            #print(Prime_list[i],end='\\t')\n",
    "        list_1 = np.setdiff1d(list_1,common_element)\n",
    "        if len(list_1)==0:\n",
    "            break\n",
    "    return number_of_parameter\n",
    "\n",
    "def calculate_total_number_of_parameter_for_using_all_sizes_of_kernel(N):\n",
    "    purally_using_kernel = (N*(1+N))*0.5\n",
    "    return purally_using_kernel"
   ]
  },
  {
   "cell_type": "code",
   "execution_count": 2,
   "metadata": {},
   "outputs": [
    {
     "name": "stdout",
     "output_type": "stream",
     "text": [
      "42\n"
     ]
    }
   ],
   "source": [
    "# check the function calcualte_total_number_of_parameter_for_prime_number is correct\n",
    "print(calcualte_total_number_of_parameter_for_prime_number([1,2,3,5,7],10))"
   ]
  },
  {
   "cell_type": "code",
   "execution_count": 4,
   "metadata": {},
   "outputs": [
    {
     "data": {
      "image/png": "[encoded data removed]",
      "text/plain": [
       "<Figure size 432x288 with 1 Axes>"
      ]
     },
     "metadata": {
      "needs_background": "light"
     },
     "output_type": "display_data"
    }
   ],
   "source": [
    "import matplotlib.pyplot as plt\n",
    "\n",
    "OS_CNN_parameter_number_list = []\n",
    "single_scale_parameter_number_list = []\n",
    "perdict_1_list =[]\n",
    "perdict_list = []\n",
    "\n",
    "for i in range(6,200):\n",
    "    largest_length_of_kernels = i\n",
    "    Prime_list = get_Prime_number_in_a_range(1,largest_length_of_kernels)\n",
    "    #print(Prime_list)\n",
    "    OS = calcualte_total_number_of_parameter_for_prime_number(Prime_list,largest_length_of_kernels)\n",
    "    single = calculate_total_number_of_parameter_for_using_all_sizes_of_kernel(largest_length_of_kernels)\n",
    "    \n",
    "    OS_CNN_parameter_number_list.append(OS)\n",
    "    single_scale_parameter_number_list.append(single)\n",
    "    perdict_list.append(1.2*i*i/(np.log(i)))  #1.2 comes from here: Search \"1.2_from\" in this page \n",
    "    perdict_1_list.append((1+i)*i/2)\n",
    "    \n",
    "fig= plt.figure()\n",
    "ax = fig.add_subplot(1, 1, 1)\n",
    "ax.plot(OS_CNN_parameter_number_list,label='OS')\n",
    "ax.plot(single_scale_parameter_number_list,label='all kernel size')\n",
    "ax.plot(perdict_list,label='theoretical prediction for OS')\n",
    "#ax.plot(perdict_1_list,label='theoretical predict for single kernel')\n",
    "\n",
    "ax.set_ylabel('Number of parameter')\n",
    "ax.set_xlabel('Largest scale')\n",
    "ax.legend()\n",
    "fig.show()\n",
    "path = './model_size_compare.pdf'\n",
    "fig.savefig(path,bbox_inches = 'tight')"
   ]
  },
  {
   "cell_type": "code",
   "execution_count": null,
   "metadata": {},
   "outputs": [],
   "source": []
  }
 ],
 "metadata": {
  "kernelspec": {
   "display_name": "Python 3",
   "language": "python",
   "name": "python3"
  },
  "language_info": {
   "codemirror_mode": {
    "name": "ipython",
    "version": 3
   },
   "file_extension": ".py",
   "mimetype": "text/x-python",
   "name": "python",
   "nbconvert_exporter": "python",
   "pygments_lexer": "ipython3",
   "version": "3.5.6"
  }
 },
 "nbformat": 4,
 "nbformat_minor": 2
}
