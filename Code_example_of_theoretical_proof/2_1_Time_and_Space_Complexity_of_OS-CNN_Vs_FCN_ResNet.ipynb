{
 "cells": [
  {
   "cell_type": "code",
   "execution_count": 1,
   "metadata": {},
   "outputs": [
    {
     "name": "stdout",
     "output_type": "stream",
     "text": [
      "number of parameter of FCN =  264962\n",
      "number of parameter of ResNet =  504258\n",
      "number of parameter of OS_CNN =  235741\n"
     ]
    }
   ],
   "source": [
    "import os\n",
    "import sys\n",
    "currentdir = os.path.dirname(os.path.abspath(\"__file__\"))\n",
    "parentdir = os.path.dirname(currentdir)\n",
    "sys.path.append(parentdir)\n",
    "\n",
    "import torch\n",
    "from Classifiers.FCN import FCN as Torch_FCN\n",
    "from Classifiers.ResNet import ResNet as Torch_ResNet\n",
    "from Classifiers.OS_CNN.OS_CNN import OS_CNN as Torch_OS_CNN\n",
    "from Classifiers.OS_CNN.OS_CNN_Structure_build import generate_layer_parameter_list\n",
    "\n",
    "\n",
    "Class_number = 2\n",
    "TS_data_length = 96\n",
    "\n",
    "# build FCN and count NoP\n",
    "FCN = Torch_FCN(TS_data_length, Class_number)\n",
    "FCN_total_params = sum(p.numel() for p in FCN.parameters())\n",
    "print('number of parameter of FCN = ',FCN_total_params)\n",
    "\n",
    "\n",
    "\n",
    "# build ResNet and count NoP\n",
    "ResNet = Torch_ResNet(TS_data_length, Class_number)\n",
    "ResNet_total_params = sum(p.numel() for p in ResNet.parameters())\n",
    "print('number of parameter of ResNet = ',ResNet_total_params)\n",
    "\n",
    "\n",
    "\n",
    "# caculate OS-CNN structure\n",
    "paramenter_number_of_layer_list = [8*128, 5*128*256 + 2*256*128]\n",
    "longest_kernel_size = 89\n",
    "receptive_field_shape= min(int(TS_data_length),longest_kernel_size)\n",
    "layer_parameter_list = generate_layer_parameter_list(1,receptive_field_shape,paramenter_number_of_layer_list)\n",
    "\n",
    "# build OS-CNN and count NoP\n",
    "OS_CNN = Torch_OS_CNN(layer_parameter_list, Class_number)\n",
    "\n",
    "OS_CNN_total_params = sum(p.numel() for p in OS_CNN.parameters())\n",
    "print('number of parameter of OS_CNN = ',OS_CNN_total_params)\n",
    "\n"
   ]
  },
  {
   "cell_type": "code",
   "execution_count": 2,
   "metadata": {},
   "outputs": [
    {
     "name": "stdout",
     "output_type": "stream",
     "text": [
      "layer  1  of OS-CNN has = 25 channels\n",
      "layer  2  of OS-CNN has = 225 channels\n",
      "layer  3  of OS-CNN has = 50 channels\n"
     ]
    }
   ],
   "source": [
    "# print channel number of OS-CNN\n",
    "\n",
    "paramenter_number_of_layer_list = [8*128, 5*128*256 + 2*256*128]\n",
    "longest_kernel_size = 89\n",
    "receptive_field_shape= min(int(TS_data_length),longest_kernel_size)\n",
    "layer_parameter_list = generate_layer_parameter_list(1,receptive_field_shape,paramenter_number_of_layer_list)\n",
    "\n",
    "\n",
    "for i, layer in enumerate(layer_parameter_list):\n",
    "    channel_count = 0\n",
    "    for kernel in layer:\n",
    "        channel_count =channel_count + kernel[1]\n",
    "    print('layer ', i+1,' of OS-CNN has =', channel_count, 'channels')"
   ]
  },
  {
   "cell_type": "code",
   "execution_count": null,
   "metadata": {},
   "outputs": [],
   "source": []
  }
 ],
 "metadata": {
  "kernelspec": {
   "display_name": "Python 3",
   "language": "python",
   "name": "python3"
  },
  "language_info": {
   "codemirror_mode": {
    "name": "ipython",
    "version": 3
   },
   "file_extension": ".py",
   "mimetype": "text/x-python",
   "name": "python",
   "nbconvert_exporter": "python",
   "pygments_lexer": "ipython3",
   "version": "3.6.8"
  }
 },
 "nbformat": 4,
 "nbformat_minor": 2
}
