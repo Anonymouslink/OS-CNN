{
 "cells": [
  {
   "cell_type": "markdown",
   "metadata": {},
   "source": [
    "# Codes here shows how do we set the channel number \n",
    "# The there are two constrains:\n",
    "# 1. total number of parameter, in here the variable name is:\n",
    "paramenter_number_of_layer_list\n",
    "# 2. the largest length of kernels, in here the variable name is: \n",
    "largest_length_of_kernels"
   ]
  },
  {
   "cell_type": "code",
   "execution_count": 1,
   "metadata": {},
   "outputs": [
    {
     "name": "stdout",
     "output_type": "stream",
     "text": [
      "paramenter_number_of_layer_list =  [1024, 229376]\n",
      "largest_length_of_kernels =  25\n"
     ]
    }
   ],
   "source": [
    "# it should be noticed that this \"paramenter_number_of_layer_list\" does not fully follow \n",
    "# the number parameter in each layer of FCN\n",
    "# the reason is that with larger kernel size and limited total parameter constrain, \n",
    "# we will have much less channel.\n",
    "# For the reason that the third layer of our nerual network only has kernel 1 and 2\n",
    "# less channel number mean it will have less parameters\n",
    "# for instance, in this example you will see, the largest_lenght_of_kernels = 60\n",
    "# the third will have only 252*36*(1+2) number of parameters\n",
    "# only around 1/3 number of paramets than the number of parameter in the third layer of FCN\n",
    "# Thus, we leave those extra number of parameter to the second layer of our model\n",
    "\n",
    "paramenter_number_of_layer_list = [8*128, 5*128*256 + 2*256*128] \n",
    "largest_length_of_kernels = 25  # for ECG200 dataset, the length is 100 thus, 100/4 =25 is the largest_length_of_kernels\n",
    "\n",
    "print('paramenter_number_of_layer_list = ',paramenter_number_of_layer_list)\n",
    "print('largest_length_of_kernels = ',largest_length_of_kernels)"
   ]
  },
  {
   "cell_type": "markdown",
   "metadata": {},
   "source": [
    "# generate prime number list"
   ]
  },
  {
   "cell_type": "code",
   "execution_count": 2,
   "metadata": {},
   "outputs": [
    {
     "name": "stdout",
     "output_type": "stream",
     "text": [
      "prime number list =  [1, 2, 3, 5, 7, 11, 13, 17, 19, 23]\n"
     ]
    }
   ],
   "source": [
    "# getting primist list which is less than 30\n",
    "\n",
    "def get_Prime_number_in_a_range(start, end):\n",
    "    Prime_list = []\n",
    "    for val in range(start, end + 1): \n",
    "        prime_or_not = True\n",
    "        for n in range(2, val):\n",
    "            if (val % n) == 0:\n",
    "                prime_or_not = False\n",
    "                break\n",
    "        if prime_or_not:\n",
    "            Prime_list.append(val)\n",
    "    return Prime_list\n",
    "\n",
    "\n",
    "Prime_list = get_Prime_number_in_a_range(1,largest_length_of_kernels)\n",
    "print ('prime number list = ',Prime_list)"
   ]
  },
  {
   "cell_type": "markdown",
   "metadata": {},
   "source": [
    "# The output of following code is the structure of OS-CNN based on the constains"
   ]
  },
  {
   "cell_type": "code",
   "execution_count": 3,
   "metadata": {},
   "outputs": [
    {
     "name": "stdout",
     "output_type": "stream",
     "text": [
      "kernels of layer 1 : (number of input channel, number of output channel, kernel size)\n",
      "\n",
      "[(1, 10, 1), (1, 10, 2), (1, 10, 3), (1, 10, 5), (1, 10, 7), (1, 10, 11), (1, 10, 13), (1, 10, 17), (1, 10, 19), (1, 10, 23)]\n",
      "\n",
      "kernels of layer 2 : (number of input channel, number of output channel, kernel size)\n",
      "\n",
      "[(100, 22, 1), (100, 22, 2), (100, 22, 3), (100, 22, 5), (100, 22, 7), (100, 22, 11), (100, 22, 13), (100, 22, 17), (100, 22, 19), (100, 22, 23)]\n",
      "\n",
      "kernels of layer 3 : (number of input channel, number of output channel, kernel size)\n",
      "\n",
      "[(220, 100, 1), (220, 100, 2)]\n",
      "\n"
     ]
    }
   ],
   "source": [
    "def get_out_channel_number(paramenter_layer, in_channel, prime_list):\n",
    "    out_channel_expect = int(paramenter_layer/(in_channel*sum(prime_list)))\n",
    "    return out_channel_expect\n",
    "\n",
    "def generate_layer_parameter_list(start,end,paramenter_number_of_layer_list, in_channel = 1):\n",
    "    prime_list = get_Prime_number_in_a_range(start, end)\n",
    "    if prime_list == []:\n",
    "        print('start = ',start, 'which is larger than end = ', end)\n",
    "    input_in_channel = in_channel\n",
    "    layer_parameter_list = []\n",
    "    for paramenter_number_of_layer in paramenter_number_of_layer_list:\n",
    "        out_channel = get_out_channel_number(paramenter_number_of_layer, in_channel, prime_list)\n",
    "        \n",
    "        tuples_in_layer= []\n",
    "        for prime in prime_list:\n",
    "            tuples_in_layer.append((in_channel,out_channel,prime))\n",
    "        in_channel =  len(prime_list)*out_channel\n",
    "        \n",
    "        layer_parameter_list.append(tuples_in_layer)\n",
    "    \n",
    "    tuples_in_layer_last = []\n",
    "    first_out_channel = len(prime_list)*get_out_channel_number(paramenter_number_of_layer_list[0], input_in_channel, prime_list)\n",
    "    tuples_in_layer_last.append((in_channel,first_out_channel,start))\n",
    "    tuples_in_layer_last.append((in_channel,first_out_channel,start+1))\n",
    "    layer_parameter_list.append(tuples_in_layer_last)\n",
    "    return layer_parameter_list\n",
    "  \n",
    "\n",
    "\n",
    "layer_parameter_list = generate_layer_parameter_list(1,largest_length_of_kernels,paramenter_number_of_layer_list)\n",
    "\n",
    "\n",
    "for i, layer_parameter in enumerate(layer_parameter_list):\n",
    "    print('kernels of layer',i+1,': (number of input channel, number of output channel, kernel size)',end = '\\n\\n')\n",
    "    print(layer_parameter,end = '\\n\\n')"
   ]
  },
  {
   "cell_type": "code",
   "execution_count": null,
   "metadata": {},
   "outputs": [],
   "source": []
  },
  {
   "cell_type": "code",
   "execution_count": null,
   "metadata": {},
   "outputs": [],
   "source": []
  }
 ],
 "metadata": {
  "kernelspec": {
   "display_name": "Python 3",
   "language": "python",
   "name": "python3"
  },
  "language_info": {
   "codemirror_mode": {
    "name": "ipython",
    "version": 3
   },
   "file_extension": ".py",
   "mimetype": "text/x-python",
   "name": "python",
   "nbconvert_exporter": "python",
   "pygments_lexer": "ipython3",
   "version": "3.6.8"
  }
 },
 "nbformat": 4,
 "nbformat_minor": 2
}
